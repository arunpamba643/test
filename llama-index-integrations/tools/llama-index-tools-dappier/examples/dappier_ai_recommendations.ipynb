{
 "cells": [
  {
   "cell_type": "markdown",
   "id": "ba49c2998ed32020",
   "metadata": {},
   "source": [
    "## Building a Dappier AI Recommendations Agent\n",
    "\n",
    "<a href=\"https://colab.research.google.com/github/run-llama/llama_index/blob/main/llama-index-integrations/tools/llama-index-tools-dappier/examples/dappier_ai_recommendations.ipynb\" target=\"_parent\"><img src=\"https://colab.research.google.com/assets/colab-badge.svg\" alt=\"Open In Colab\"/></a>\n",
    "\n",
    "This tutorial walks through using the LLM tools provided by [Dappier](https://dappier.com/) to allow LLMs to use Dappier's pre-trained, LLM ready RAG models and natural language APIs to ensure factual, up-to-date, responses from premium content providers across key verticals like News, Finance, Sports, Weather, and more.\n",
    "\n",
    "\n",
    "To get started, you will need an [OpenAI API key](https://platform.openai.com/account/api-keys) and a [Dappier API key](https://platform.dappier.com/profile/api-keys)\n",
    "\n",
    "We will import the relevant agents and tools and pass them our keys here:"
   ]
  },
  {
   "cell_type": "markdown",
   "id": "11992469",
   "metadata": {},
   "source": [
    "## Installation\n",
    "\n",
    "First, install the `llama-index` and `llama-index-tools-dappier` packages"
   ]
  },
  {
   "cell_type": "code",
   "execution_count": null,
   "id": "initial_id",
   "metadata": {},
   "outputs": [
    {
     "name": "stdout",
     "output_type": "stream",
     "text": [
      "Requirement already satisfied: llama-index in /Users/amaan/Library/Caches/pypoetry/virtualenvs/llama-index-yhiCGw8g-py3.10/lib/python3.10/site-packages (0.12.25)\n",
      "Requirement already satisfied: llama-index-tools-dappier-ai-recommendations in /Users/amaan/Library/Caches/pypoetry/virtualenvs/llama-index-yhiCGw8g-py3.10/lib/python3.10/site-packages (0.3.0)\n",
      "Requirement already satisfied: llama-index-agent-openai<0.5.0,>=0.4.0 in /Users/amaan/Library/Caches/pypoetry/virtualenvs/llama-index-yhiCGw8g-py3.10/lib/python3.10/site-packages (from llama-index) (0.4.6)\n",
      "Requirement already satisfied: llama-index-cli<0.5.0,>=0.4.1 in /Users/amaan/Library/Caches/pypoetry/virtualenvs/llama-index-yhiCGw8g-py3.10/lib/python3.10/site-packages (from llama-index) (0.4.1)\n",
      "Requirement already satisfied: llama-index-core<0.13.0,>=0.12.25 in /Users/amaan/Library/Caches/pypoetry/virtualenvs/llama-index-yhiCGw8g-py3.10/lib/python3.10/site-packages (from llama-index) (0.12.25)\n",
      "Requirement already satisfied: llama-index-embeddings-openai<0.4.0,>=0.3.0 in /Users/amaan/Library/Caches/pypoetry/virtualenvs/llama-index-yhiCGw8g-py3.10/lib/python3.10/site-packages (from llama-index) (0.3.1)\n",
      "Requirement already satisfied: llama-index-indices-managed-llama-cloud>=0.4.0 in /Users/amaan/Library/Caches/pypoetry/virtualenvs/llama-index-yhiCGw8g-py3.10/lib/python3.10/site-packages (from llama-index) (0.6.9)\n",
      "Requirement already satisfied: llama-index-llms-openai<0.4.0,>=0.3.0 in /Users/amaan/Library/Caches/pypoetry/virtualenvs/llama-index-yhiCGw8g-py3.10/lib/python3.10/site-packages (from llama-index) (0.3.25)\n",
      "Requirement already satisfied: llama-index-multi-modal-llms-openai<0.5.0,>=0.4.0 in /Users/amaan/Library/Caches/pypoetry/virtualenvs/llama-index-yhiCGw8g-py3.10/lib/python3.10/site-packages (from llama-index) (0.4.3)\n",
      "Requirement already satisfied: llama-index-program-openai<0.4.0,>=0.3.0 in /Users/amaan/Library/Caches/pypoetry/virtualenvs/llama-index-yhiCGw8g-py3.10/lib/python3.10/site-packages (from llama-index) (0.3.1)\n",
      "Requirement already satisfied: llama-index-question-gen-openai<0.4.0,>=0.3.0 in /Users/amaan/Library/Caches/pypoetry/virtualenvs/llama-index-yhiCGw8g-py3.10/lib/python3.10/site-packages (from llama-index) (0.3.0)\n",
      "Requirement already satisfied: llama-index-readers-file<0.5.0,>=0.4.0 in /Users/amaan/Library/Caches/pypoetry/virtualenvs/llama-index-yhiCGw8g-py3.10/lib/python3.10/site-packages (from llama-index) (0.4.6)\n",
      "Requirement already satisfied: llama-index-readers-llama-parse>=0.4.0 in /Users/amaan/Library/Caches/pypoetry/virtualenvs/llama-index-yhiCGw8g-py3.10/lib/python3.10/site-packages (from llama-index) (0.4.0)\n",
      "Requirement already satisfied: nltk>3.8.1 in /Users/amaan/Library/Caches/pypoetry/virtualenvs/llama-index-yhiCGw8g-py3.10/lib/python3.10/site-packages (from llama-index) (3.9.1)\n",
      "Requirement already satisfied: dappier<0.4.0,>=0.3.3 in /Users/amaan/Library/Caches/pypoetry/virtualenvs/llama-index-yhiCGw8g-py3.10/lib/python3.10/site-packages (from llama-index-tools-dappier-ai-recommendations) (0.3.3)\n",
      "Requirement already satisfied: asyncio<4.0.0,>=3.4.3 in /Users/amaan/Library/Caches/pypoetry/virtualenvs/llama-index-yhiCGw8g-py3.10/lib/python3.10/site-packages (from dappier<0.4.0,>=0.3.3->llama-index-tools-dappier-ai-recommendations) (3.4.3)\n",
      "Requirement already satisfied: httpx<0.29.0,>=0.23.0 in /Users/amaan/Library/Caches/pypoetry/virtualenvs/llama-index-yhiCGw8g-py3.10/lib/python3.10/site-packages (from dappier<0.4.0,>=0.3.3->llama-index-tools-dappier-ai-recommendations) (0.28.1)\n",
      "Requirement already satisfied: pydantic<3.0.0,>=1.9 in /Users/amaan/Library/Caches/pypoetry/virtualenvs/llama-index-yhiCGw8g-py3.10/lib/python3.10/site-packages (from dappier<0.4.0,>=0.3.3->llama-index-tools-dappier-ai-recommendations) (2.10.6)\n",
      "Requirement already satisfied: openai>=1.14.0 in /Users/amaan/Library/Caches/pypoetry/virtualenvs/llama-index-yhiCGw8g-py3.10/lib/python3.10/site-packages (from llama-index-agent-openai<0.5.0,>=0.4.0->llama-index) (1.66.5)\n",
      "Requirement already satisfied: PyYAML>=6.0.1 in /Users/amaan/Library/Caches/pypoetry/virtualenvs/llama-index-yhiCGw8g-py3.10/lib/python3.10/site-packages (from llama-index-core<0.13.0,>=0.12.25->llama-index) (6.0.2)\n",
      "Requirement already satisfied: SQLAlchemy>=1.4.49 in /Users/amaan/Library/Caches/pypoetry/virtualenvs/llama-index-yhiCGw8g-py3.10/lib/python3.10/site-packages (from SQLAlchemy[asyncio]>=1.4.49->llama-index-core<0.13.0,>=0.12.25->llama-index) (2.0.39)\n",
      "Requirement already satisfied: aiohttp<4.0.0,>=3.8.6 in /Users/amaan/Library/Caches/pypoetry/virtualenvs/llama-index-yhiCGw8g-py3.10/lib/python3.10/site-packages (from llama-index-core<0.13.0,>=0.12.25->llama-index) (3.11.14)\n",
      "Requirement already satisfied: dataclasses-json in /Users/amaan/Library/Caches/pypoetry/virtualenvs/llama-index-yhiCGw8g-py3.10/lib/python3.10/site-packages (from llama-index-core<0.13.0,>=0.12.25->llama-index) (0.6.7)\n",
      "Requirement already satisfied: deprecated>=1.2.9.3 in /Users/amaan/Library/Caches/pypoetry/virtualenvs/llama-index-yhiCGw8g-py3.10/lib/python3.10/site-packages (from llama-index-core<0.13.0,>=0.12.25->llama-index) (1.2.18)\n",
      "Requirement already satisfied: dirtyjson<2.0.0,>=1.0.8 in /Users/amaan/Library/Caches/pypoetry/virtualenvs/llama-index-yhiCGw8g-py3.10/lib/python3.10/site-packages (from llama-index-core<0.13.0,>=0.12.25->llama-index) (1.0.8)\n",
      "Requirement already satisfied: filetype<2.0.0,>=1.2.0 in /Users/amaan/Library/Caches/pypoetry/virtualenvs/llama-index-yhiCGw8g-py3.10/lib/python3.10/site-packages (from llama-index-core<0.13.0,>=0.12.25->llama-index) (1.2.0)\n",
      "Requirement already satisfied: fsspec>=2023.5.0 in /Users/amaan/Library/Caches/pypoetry/virtualenvs/llama-index-yhiCGw8g-py3.10/lib/python3.10/site-packages (from llama-index-core<0.13.0,>=0.12.25->llama-index) (2025.3.0)\n",
      "Requirement already satisfied: nest-asyncio<2.0.0,>=1.5.8 in /Users/amaan/Library/Caches/pypoetry/virtualenvs/llama-index-yhiCGw8g-py3.10/lib/python3.10/site-packages (from llama-index-core<0.13.0,>=0.12.25->llama-index) (1.6.0)\n",
      "Requirement already satisfied: networkx>=3.0 in /Users/amaan/Library/Caches/pypoetry/virtualenvs/llama-index-yhiCGw8g-py3.10/lib/python3.10/site-packages (from llama-index-core<0.13.0,>=0.12.25->llama-index) (3.2.1)\n",
      "Requirement already satisfied: numpy in /Users/amaan/Library/Caches/pypoetry/virtualenvs/llama-index-yhiCGw8g-py3.10/lib/python3.10/site-packages (from llama-index-core<0.13.0,>=0.12.25->llama-index) (2.0.2)\n",
      "Requirement already satisfied: pillow>=9.0.0 in /Users/amaan/Library/Caches/pypoetry/virtualenvs/llama-index-yhiCGw8g-py3.10/lib/python3.10/site-packages (from llama-index-core<0.13.0,>=0.12.25->llama-index) (11.1.0)\n",
      "Requirement already satisfied: requests>=2.31.0 in /Users/amaan/Library/Caches/pypoetry/virtualenvs/llama-index-yhiCGw8g-py3.10/lib/python3.10/site-packages (from llama-index-core<0.13.0,>=0.12.25->llama-index) (2.32.3)\n",
      "Requirement already satisfied: tenacity!=8.4.0,<10.0.0,>=8.2.0 in /Users/amaan/Library/Caches/pypoetry/virtualenvs/llama-index-yhiCGw8g-py3.10/lib/python3.10/site-packages (from llama-index-core<0.13.0,>=0.12.25->llama-index) (9.0.0)\n",
      "Requirement already satisfied: tiktoken>=0.3.3 in /Users/amaan/Library/Caches/pypoetry/virtualenvs/llama-index-yhiCGw8g-py3.10/lib/python3.10/site-packages (from llama-index-core<0.13.0,>=0.12.25->llama-index) (0.9.0)\n",
      "Requirement already satisfied: tqdm<5.0.0,>=4.66.1 in /Users/amaan/Library/Caches/pypoetry/virtualenvs/llama-index-yhiCGw8g-py3.10/lib/python3.10/site-packages (from llama-index-core<0.13.0,>=0.12.25->llama-index) (4.67.1)\n",
      "Requirement already satisfied: typing-extensions>=4.5.0 in /Users/amaan/Library/Caches/pypoetry/virtualenvs/llama-index-yhiCGw8g-py3.10/lib/python3.10/site-packages (from llama-index-core<0.13.0,>=0.12.25->llama-index) (4.12.2)\n",
      "Requirement already satisfied: typing-inspect>=0.8.0 in /Users/amaan/Library/Caches/pypoetry/virtualenvs/llama-index-yhiCGw8g-py3.10/lib/python3.10/site-packages (from llama-index-core<0.13.0,>=0.12.25->llama-index) (0.9.0)\n",
      "Requirement already satisfied: wrapt in /Users/amaan/Library/Caches/pypoetry/virtualenvs/llama-index-yhiCGw8g-py3.10/lib/python3.10/site-packages (from llama-index-core<0.13.0,>=0.12.25->llama-index) (1.17.2)\n",
      "Requirement already satisfied: llama-cloud<0.2.0,>=0.1.13 in /Users/amaan/Library/Caches/pypoetry/virtualenvs/llama-index-yhiCGw8g-py3.10/lib/python3.10/site-packages (from llama-index-indices-managed-llama-cloud>=0.4.0->llama-index) (0.1.14)\n",
      "Requirement already satisfied: beautifulsoup4<5.0.0,>=4.12.3 in /Users/amaan/Library/Caches/pypoetry/virtualenvs/llama-index-yhiCGw8g-py3.10/lib/python3.10/site-packages (from llama-index-readers-file<0.5.0,>=0.4.0->llama-index) (4.13.3)\n",
      "Requirement already satisfied: pandas in /Users/amaan/Library/Caches/pypoetry/virtualenvs/llama-index-yhiCGw8g-py3.10/lib/python3.10/site-packages (from llama-index-readers-file<0.5.0,>=0.4.0->llama-index) (2.2.3)\n",
      "Requirement already satisfied: pypdf<6.0.0,>=5.1.0 in /Users/amaan/Library/Caches/pypoetry/virtualenvs/llama-index-yhiCGw8g-py3.10/lib/python3.10/site-packages (from llama-index-readers-file<0.5.0,>=0.4.0->llama-index) (5.4.0)\n",
      "Requirement already satisfied: striprtf<0.0.27,>=0.0.26 in /Users/amaan/Library/Caches/pypoetry/virtualenvs/llama-index-yhiCGw8g-py3.10/lib/python3.10/site-packages (from llama-index-readers-file<0.5.0,>=0.4.0->llama-index) (0.0.26)\n",
      "Requirement already satisfied: llama-parse>=0.5.0 in /Users/amaan/Library/Caches/pypoetry/virtualenvs/llama-index-yhiCGw8g-py3.10/lib/python3.10/site-packages (from llama-index-readers-llama-parse>=0.4.0->llama-index) (0.6.4.post1)\n",
      "Requirement already satisfied: click in /Users/amaan/Library/Caches/pypoetry/virtualenvs/llama-index-yhiCGw8g-py3.10/lib/python3.10/site-packages (from nltk>3.8.1->llama-index) (8.1.8)\n",
      "Requirement already satisfied: joblib in /Users/amaan/Library/Caches/pypoetry/virtualenvs/llama-index-yhiCGw8g-py3.10/lib/python3.10/site-packages (from nltk>3.8.1->llama-index) (1.4.2)\n",
      "Requirement already satisfied: regex>=2021.8.3 in /Users/amaan/Library/Caches/pypoetry/virtualenvs/llama-index-yhiCGw8g-py3.10/lib/python3.10/site-packages (from nltk>3.8.1->llama-index) (2024.11.6)\n",
      "Requirement already satisfied: aiohappyeyeballs>=2.3.0 in /Users/amaan/Library/Caches/pypoetry/virtualenvs/llama-index-yhiCGw8g-py3.10/lib/python3.10/site-packages (from aiohttp<4.0.0,>=3.8.6->llama-index-core<0.13.0,>=0.12.25->llama-index) (2.6.1)\n",
      "Requirement already satisfied: aiosignal>=1.1.2 in /Users/amaan/Library/Caches/pypoetry/virtualenvs/llama-index-yhiCGw8g-py3.10/lib/python3.10/site-packages (from aiohttp<4.0.0,>=3.8.6->llama-index-core<0.13.0,>=0.12.25->llama-index) (1.3.2)\n",
      "Requirement already satisfied: async-timeout<6.0,>=4.0 in /Users/amaan/Library/Caches/pypoetry/virtualenvs/llama-index-yhiCGw8g-py3.10/lib/python3.10/site-packages (from aiohttp<4.0.0,>=3.8.6->llama-index-core<0.13.0,>=0.12.25->llama-index) (5.0.1)\n",
      "Requirement already satisfied: attrs>=17.3.0 in /Users/amaan/Library/Caches/pypoetry/virtualenvs/llama-index-yhiCGw8g-py3.10/lib/python3.10/site-packages (from aiohttp<4.0.0,>=3.8.6->llama-index-core<0.13.0,>=0.12.25->llama-index) (25.3.0)\n",
      "Requirement already satisfied: frozenlist>=1.1.1 in /Users/amaan/Library/Caches/pypoetry/virtualenvs/llama-index-yhiCGw8g-py3.10/lib/python3.10/site-packages (from aiohttp<4.0.0,>=3.8.6->llama-index-core<0.13.0,>=0.12.25->llama-index) (1.5.0)\n",
      "Requirement already satisfied: multidict<7.0,>=4.5 in /Users/amaan/Library/Caches/pypoetry/virtualenvs/llama-index-yhiCGw8g-py3.10/lib/python3.10/site-packages (from aiohttp<4.0.0,>=3.8.6->llama-index-core<0.13.0,>=0.12.25->llama-index) (6.2.0)\n",
      "Requirement already satisfied: propcache>=0.2.0 in /Users/amaan/Library/Caches/pypoetry/virtualenvs/llama-index-yhiCGw8g-py3.10/lib/python3.10/site-packages (from aiohttp<4.0.0,>=3.8.6->llama-index-core<0.13.0,>=0.12.25->llama-index) (0.3.0)\n",
      "Requirement already satisfied: yarl<2.0,>=1.17.0 in /Users/amaan/Library/Caches/pypoetry/virtualenvs/llama-index-yhiCGw8g-py3.10/lib/python3.10/site-packages (from aiohttp<4.0.0,>=3.8.6->llama-index-core<0.13.0,>=0.12.25->llama-index) (1.18.3)\n",
      "Requirement already satisfied: soupsieve>1.2 in /Users/amaan/Library/Caches/pypoetry/virtualenvs/llama-index-yhiCGw8g-py3.10/lib/python3.10/site-packages (from beautifulsoup4<5.0.0,>=4.12.3->llama-index-readers-file<0.5.0,>=0.4.0->llama-index) (2.6)\n",
      "Requirement already satisfied: anyio in /Users/amaan/Library/Caches/pypoetry/virtualenvs/llama-index-yhiCGw8g-py3.10/lib/python3.10/site-packages (from httpx<0.29.0,>=0.23.0->dappier<0.4.0,>=0.3.3->llama-index-tools-dappier-ai-recommendations) (4.9.0)\n",
      "Requirement already satisfied: certifi in /Users/amaan/Library/Caches/pypoetry/virtualenvs/llama-index-yhiCGw8g-py3.10/lib/python3.10/site-packages (from httpx<0.29.0,>=0.23.0->dappier<0.4.0,>=0.3.3->llama-index-tools-dappier-ai-recommendations) (2025.1.31)\n",
      "Requirement already satisfied: httpcore==1.* in /Users/amaan/Library/Caches/pypoetry/virtualenvs/llama-index-yhiCGw8g-py3.10/lib/python3.10/site-packages (from httpx<0.29.0,>=0.23.0->dappier<0.4.0,>=0.3.3->llama-index-tools-dappier-ai-recommendations) (1.0.7)\n",
      "Requirement already satisfied: idna in /Users/amaan/Library/Caches/pypoetry/virtualenvs/llama-index-yhiCGw8g-py3.10/lib/python3.10/site-packages (from httpx<0.29.0,>=0.23.0->dappier<0.4.0,>=0.3.3->llama-index-tools-dappier-ai-recommendations) (3.10)\n",
      "Requirement already satisfied: h11<0.15,>=0.13 in /Users/amaan/Library/Caches/pypoetry/virtualenvs/llama-index-yhiCGw8g-py3.10/lib/python3.10/site-packages (from httpcore==1.*->httpx<0.29.0,>=0.23.0->dappier<0.4.0,>=0.3.3->llama-index-tools-dappier-ai-recommendations) (0.14.0)\n",
      "Requirement already satisfied: llama-cloud-services>=0.6.4 in /Users/amaan/Library/Caches/pypoetry/virtualenvs/llama-index-yhiCGw8g-py3.10/lib/python3.10/site-packages (from llama-parse>=0.5.0->llama-index-readers-llama-parse>=0.4.0->llama-index) (0.6.5)\n",
      "Requirement already satisfied: distro<2,>=1.7.0 in /Users/amaan/Library/Caches/pypoetry/virtualenvs/llama-index-yhiCGw8g-py3.10/lib/python3.10/site-packages (from openai>=1.14.0->llama-index-agent-openai<0.5.0,>=0.4.0->llama-index) (1.9.0)\n",
      "Requirement already satisfied: jiter<1,>=0.4.0 in /Users/amaan/Library/Caches/pypoetry/virtualenvs/llama-index-yhiCGw8g-py3.10/lib/python3.10/site-packages (from openai>=1.14.0->llama-index-agent-openai<0.5.0,>=0.4.0->llama-index) (0.9.0)\n",
      "Requirement already satisfied: sniffio in /Users/amaan/Library/Caches/pypoetry/virtualenvs/llama-index-yhiCGw8g-py3.10/lib/python3.10/site-packages (from openai>=1.14.0->llama-index-agent-openai<0.5.0,>=0.4.0->llama-index) (1.3.1)\n",
      "Requirement already satisfied: annotated-types>=0.6.0 in /Users/amaan/Library/Caches/pypoetry/virtualenvs/llama-index-yhiCGw8g-py3.10/lib/python3.10/site-packages (from pydantic<3.0.0,>=1.9->dappier<0.4.0,>=0.3.3->llama-index-tools-dappier-ai-recommendations) (0.7.0)\n",
      "Requirement already satisfied: pydantic-core==2.27.2 in /Users/amaan/Library/Caches/pypoetry/virtualenvs/llama-index-yhiCGw8g-py3.10/lib/python3.10/site-packages (from pydantic<3.0.0,>=1.9->dappier<0.4.0,>=0.3.3->llama-index-tools-dappier-ai-recommendations) (2.27.2)\n",
      "Requirement already satisfied: charset-normalizer<4,>=2 in /Users/amaan/Library/Caches/pypoetry/virtualenvs/llama-index-yhiCGw8g-py3.10/lib/python3.10/site-packages (from requests>=2.31.0->llama-index-core<0.13.0,>=0.12.25->llama-index) (3.4.1)\n",
      "Requirement already satisfied: urllib3<3,>=1.21.1 in /Users/amaan/Library/Caches/pypoetry/virtualenvs/llama-index-yhiCGw8g-py3.10/lib/python3.10/site-packages (from requests>=2.31.0->llama-index-core<0.13.0,>=0.12.25->llama-index) (2.3.0)\n",
      "Requirement already satisfied: greenlet!=0.4.17 in /Users/amaan/Library/Caches/pypoetry/virtualenvs/llama-index-yhiCGw8g-py3.10/lib/python3.10/site-packages (from SQLAlchemy[asyncio]>=1.4.49->llama-index-core<0.13.0,>=0.12.25->llama-index) (3.1.1)\n",
      "Requirement already satisfied: mypy-extensions>=0.3.0 in /Users/amaan/Library/Caches/pypoetry/virtualenvs/llama-index-yhiCGw8g-py3.10/lib/python3.10/site-packages (from typing-inspect>=0.8.0->llama-index-core<0.13.0,>=0.12.25->llama-index) (1.0.0)\n",
      "Requirement already satisfied: marshmallow<4.0.0,>=3.18.0 in /Users/amaan/Library/Caches/pypoetry/virtualenvs/llama-index-yhiCGw8g-py3.10/lib/python3.10/site-packages (from dataclasses-json->llama-index-core<0.13.0,>=0.12.25->llama-index) (3.26.1)\n",
      "Requirement already satisfied: python-dateutil>=2.8.2 in /Users/amaan/Library/Caches/pypoetry/virtualenvs/llama-index-yhiCGw8g-py3.10/lib/python3.10/site-packages (from pandas->llama-index-readers-file<0.5.0,>=0.4.0->llama-index) (2.9.0.post0)\n",
      "Requirement already satisfied: pytz>=2020.1 in /Users/amaan/Library/Caches/pypoetry/virtualenvs/llama-index-yhiCGw8g-py3.10/lib/python3.10/site-packages (from pandas->llama-index-readers-file<0.5.0,>=0.4.0->llama-index) (2025.1)\n",
      "Requirement already satisfied: tzdata>=2022.7 in /Users/amaan/Library/Caches/pypoetry/virtualenvs/llama-index-yhiCGw8g-py3.10/lib/python3.10/site-packages (from pandas->llama-index-readers-file<0.5.0,>=0.4.0->llama-index) (2025.1)\n",
      "Requirement already satisfied: exceptiongroup>=1.0.2 in /Users/amaan/Library/Caches/pypoetry/virtualenvs/llama-index-yhiCGw8g-py3.10/lib/python3.10/site-packages (from anyio->httpx<0.29.0,>=0.23.0->dappier<0.4.0,>=0.3.3->llama-index-tools-dappier-ai-recommendations) (1.2.2)\n",
      "Requirement already satisfied: python-dotenv<2.0.0,>=1.0.1 in /Users/amaan/Library/Caches/pypoetry/virtualenvs/llama-index-yhiCGw8g-py3.10/lib/python3.10/site-packages (from llama-cloud-services>=0.6.4->llama-parse>=0.5.0->llama-index-readers-llama-parse>=0.4.0->llama-index) (1.0.1)\n",
      "Requirement already satisfied: packaging>=17.0 in /Users/amaan/Library/Caches/pypoetry/virtualenvs/llama-index-yhiCGw8g-py3.10/lib/python3.10/site-packages (from marshmallow<4.0.0,>=3.18.0->dataclasses-json->llama-index-core<0.13.0,>=0.12.25->llama-index) (24.2)\n",
      "Requirement already satisfied: six>=1.5 in /Users/amaan/Library/Caches/pypoetry/virtualenvs/llama-index-yhiCGw8g-py3.10/lib/python3.10/site-packages (from python-dateutil>=2.8.2->pandas->llama-index-readers-file<0.5.0,>=0.4.0->llama-index) (1.17.0)\n",
      "Note: you may need to restart the kernel to use updated packages.\n"
     ]
    }
   ],
   "source": [
    "%pip install llama-index llama-index-tools-dappier"
   ]
  },
  {
   "cell_type": "markdown",
   "id": "f7f3a766",
   "metadata": {},
   "source": [
    "## Setup API keys\n",
    "\n",
    "You'll need to set up your API keys for OpenAI and Dappier."
   ]
  },
  {
   "cell_type": "markdown",
   "id": "59886322",
   "metadata": {},
   "source": [
    "Your can go to [here](https://platform.openai.com/settings/organization/api-keys) to get API Key from Open AI."
   ]
  },
  {
   "cell_type": "code",
   "execution_count": null,
   "id": "a5316e0f",
   "metadata": {},
   "outputs": [],
   "source": [
    "import os\n",
    "from getpass import getpass\n",
    "\n",
    "# Prompt for the API key securely\n",
    "openai_api_key = getpass(\"Enter your API key: \")\n",
    "os.environ[\"OPENAI_API_KEY\"] = openai_api_key"
   ]
  },
  {
   "cell_type": "markdown",
   "id": "40347147",
   "metadata": {},
   "source": [
    "You can go to [here](https://platform.dappier.com/profile/api-keys) to get API Key from Dappier with **free** credits."
   ]
  },
  {
   "cell_type": "code",
   "execution_count": null,
   "id": "bf4fe7bd",
   "metadata": {},
   "outputs": [],
   "source": [
    "# Prompt for the Dappier API key securely\n",
    "dappier_api_key = getpass(\"Enter your API key: \")\n",
    "os.environ[\"DAPPIER_API_KEY\"] = dappier_api_key"
   ]
  },
  {
   "cell_type": "markdown",
   "id": "e7f73566",
   "metadata": {},
   "source": [
    "## Setup Dappier Tool\n",
    "\n",
    "Initialize the Dappier Real-Time Search Tool, convert it to a tool list."
   ]
  },
  {
   "cell_type": "code",
   "execution_count": null,
   "id": "5b0877f51a351135",
   "metadata": {},
   "outputs": [
    {
     "name": "stdout",
     "output_type": "stream",
     "text": [
      "get_sports_news_recommendations\n",
      "get_lifestyle_news_recommendations\n",
      "get_iheartdogs_recommendations\n",
      "get_iheartcats_recommendations\n",
      "get_greenmonster_recommendations\n",
      "get_wishtv_recommendations\n",
      "get_nine_and_ten_news_recommendations\n"
     ]
    }
   ],
   "source": [
    "from llama_index.tools.dappier import (\n",
    "    DappierAIRecommendationsToolSpec,\n",
    ")\n",
    "\n",
    "dappier_tool = DappierAIRecommendationsToolSpec()\n",
    "\n",
    "dappier_tool_list = dappier_tool.to_tool_list()\n",
    "for tool in dappier_tool_list:\n",
    "    print(tool.metadata.name)"
   ]
  },
  {
   "cell_type": "markdown",
   "id": "10363da6",
   "metadata": {},
   "source": [
    "## Usage\n",
    "\n",
    "We've imported our OpenAI agent, set up the api key, and initialized our tool. Let's test out the tool before setting up our Agent.\n"
   ]
  },
  {
   "cell_type": "markdown",
   "id": "427a81ad",
   "metadata": {},
   "source": [
    "### Sports News\n",
    "\n",
    "Real-time news, updates, and personalized content from top sports sources like Sportsnaut, Forever Blueshirts, Minnesota Sports Fan, LAFB Network, Bounding Into Sports, and Ringside Intel.\n"
   ]
  },
  {
   "cell_type": "code",
   "execution_count": null,
   "id": "c2d1e7865b0301f9",
   "metadata": {},
   "outputs": [
    {
     "name": "stdout",
     "output_type": "stream",
     "text": [
      "Result 1:\n",
      "Title: MLB scout boldly calls on Boston Red Sox to start this prospect at second base on Opening Day — and it’s not Kristian Campbell\n",
      "Author: Matt Higgins\n",
      "Published on: Thu, 20 Mar 2025 22:20:22 +0000\n",
      "Source: Sportsnaut (sportsnaut.com)\n",
      "URL: https://sportsnaut.com/boston-red-sox-news-starting-second-baseman-kristian-campbell-marcelo-mayer/\n",
      "Image URL: https://images.dappier.com/dm_01j0pb465keqmatq9k83dthx34/Kristian-Campbell-25528977-1180x787_.jpg?width=428&height=321\n",
      "Summary: As spring training unfolds, the Boston Red Sox's second base position has become competitive, particularly with Kristian Campbell struggling after a strong minor league season. Despite his impressive 2024 stats, Campbell's poor performance this spring has opened the door for Marcelo Mayer, the team's third-ranked prospect, who has adapted well to the position, hitting .357 in limited at-bats.\n",
      "\n",
      "Mayer's potential as a high-risk, high-reward player has caught the attention of scouts, who believe his offensive skills could be crucial for the team. With Trevor Story at shortstop, the Red Sox face a pivotal decision between Campbell and Mayer as they finalize their roster, highlighting the ongoing evaluation of talent within the team.\n",
      "Score: None\n",
      "\n",
      "Result 2:\n",
      "Title: St. Louis Cardinals game today: TV schedule, Cardinals schedule, how to watch the Cardinals tonight\n",
      "Author: Andrew Buller-Russ\n",
      "Published on: Thu, 20 Mar 2025 22:06:03 +0000\n",
      "Source: Sportsnaut (sportsnaut.com)\n",
      "URL: https://sportsnaut.com/st-louis-cardinals-game-today-tv-schedule-channel/\n",
      "Image URL: https://images.dappier.com/dm_01j0pb465keqmatq9k83dthx34/MLB-St.-Louis-Cardinals-at-Atlanta-Braves-8843973-1180x787_.jpg?width=428&height=321\n",
      "Summary: The St. Louis Cardinals are set to face the Minnesota Twins today at 3:15 PM CDT, with the game broadcast on the FanDuel Sports Network. This matchup marks the Cardinals' first regular season game after their recent 6-1 victory over the San Francisco Giants. \n",
      "\n",
      "The game will be held at Busch Stadium in St. Louis, Missouri. Additionally, the article provides insights into the 2025 Cardinals schedule and features links to related content about MLB playoffs and player rankings, catering to fans interested in the wider MLB context.\n",
      "Score: None\n",
      "\n",
      "Result 3:\n",
      "Title: 2 New Los Angeles Rams Contracts Make NFL History\n",
      "Author: Ryan Anderson\n",
      "Published on: Thu, 20 Mar 2025 21:58:05 +0000\n",
      "Source: LAFB Network (www.lafbnetwork.com)\n",
      "URL: https://www.lafbnetwork.com/nfl/la-chargers/la-chargers-news/los-angeles-rams-historic-contracts/\n",
      "Image URL: https://images.dappier.com/dm_01j0pb465keqmatq9k83dthx34/NFL-New-Orleans-Saints-at-Los-Angeles-Rams-22155223_.jpg?width=428&height=321\n",
      "Summary: The Los Angeles Rams made significant moves during free agency, notably signing Davante Adams and Poona Ford, contributing to historical milestones in NFL contracts. Aaron Rodgers leads in career earnings among quarterbacks, with Matthew Stafford closely behind. Stafford, who plans to continue playing, is set to earn $27 million in 2025, while Rodgers could surpass $400 million if he signs soon.\n",
      "\n",
      "The article also highlights the success of undrafted players in the NFL, with many securing lucrative contracts. Alaric Jackson stands out as the highest-paid undrafted free agent at $18.8 million per season. This trend reflects a growing recognition of talent beyond traditional draft selections, with undrafted players now comprising a significant portion of high-value contracts, showcasing their potential to achieve financial success through hard work and perseverance.\n",
      "Score: None\n",
      "\n",
      "\n"
     ]
    }
   ],
   "source": [
    "print(\n",
    "    dappier_tool.get_sports_news_recommendations(\n",
    "        query=\"latest sports news\", similarity_top_k=3\n",
    "    )\n",
    ")"
   ]
  },
  {
   "cell_type": "markdown",
   "id": "aa77510d",
   "metadata": {},
   "source": [
    "### Lifestyle News\n",
    "\n",
    "Real-time updates, analysis, and personalized content from top sources like The Mix, Snipdaily, Nerdable, and Familyproof."
   ]
  },
  {
   "cell_type": "code",
   "execution_count": null,
   "id": "79716cc2",
   "metadata": {},
   "outputs": [
    {
     "name": "stdout",
     "output_type": "stream",
     "text": [
      "Result 1:\n",
      "Title: Morgan Wallen Completes His Comeback – He’s Returning To ‘SNL’ For First Time In 5 Years\n",
      "Author: James Conrad\n",
      "Published on: Thu, 20 Mar 2025 17:17:29 +0000\n",
      "Source: TheMix.net (www.themix.net)\n",
      "URL: https://www.themix.net/celebrity/celebrity-news/morgan-wallen-completes-his-comeback-hes-returning-to-snl-for-first-time-in-5-years/\n",
      "Image URL: https://images.dappier.com/dm_01j0q82s4bfjmsqkhs3ywm3x6y/Morgan-Wallen_.jpg?width=428&height=321\n",
      "Summary: Morgan Wallen is set to return to Saturday Night Live on March 29, marking his first appearance since December 2020. This comeback follows a challenging period in his career, particularly after facing backlash for using racial slurs in 2021, which led to his temporary blacklisting. Wallen has since expressed remorse and engaged in discussions with Black leaders to understand the impact of his actions, emphasizing that he takes full responsibility for his behavior.\n",
      "\n",
      "His upcoming performance will be hosted by Mikey Madison, an Oscar winner, and signifies a significant step in Wallen's career recovery. Despite past controversies, including a recent arrest for reckless endangerment, he is focused on his music, with a new album titled \"I’m The Problem\" set for release in May and a summer tour planned. Wallen's return to SNL is viewed as a positive move in his efforts to rehabilitate his image within the country music scene.\n",
      "Score: None\n",
      "\n",
      "Result 2:\n",
      "Title: Alec Baldwin’s Wife Forces Him To Make Embarrassing Public Apology To Her After Their Red Carpet Spat Goes Viral\n",
      "Author: James Conrad\n",
      "Published on: Thu, 20 Mar 2025 16:44:10 +0000\n",
      "Source: TheMix.net (www.themix.net)\n",
      "URL: https://www.themix.net/celebrity/celebrity-news/alec-baldwins-wife-forces-him-to-make-embarrassing-public-apology-to-her-after-their-red-carpet-spat-goes-viral/\n",
      "Image URL: https://images.dappier.com/dm_01j0q82s4bfjmsqkhs3ywm3x6y/Alec-Baldwin-Hilaria_.jpg?width=428&height=321\n",
      "Summary: Alec Baldwin and his wife Hilaria recently faced public scrutiny after a viral red carpet spat, where Hilaria reprimanded Alec for interrupting her. The incident led to Alec issuing an embarrassing public apology in a video, where he humorously referred to \"manterrupting\" and \"correctile dysfunction.\" The couple's dynamic sparked mixed reactions, with some sympathizing with Alec while others criticized Hilaria's behavior.\n",
      "\n",
      "The couple, married since 2012 and parents to seven children, is set to showcase their family life in a new TLC reality show titled \"The Baldwins,\" premiering on February 23. The show aims to blend humor with the challenges of raising a large family, highlighting the unique dynamics of their relationship. As discussions about their public interactions continue, fans of celebrity news and reality television may find their story intriguing.\n",
      "Score: None\n",
      "\n",
      "Result 3:\n",
      "Title: ‘Ted Lasso’ Season 4 Is Happening, But With One Big Change\n",
      "Author: Nikole Stewart\n",
      "Published on: Thu, 20 Mar 2025 16:26:29 +0000\n",
      "Source: TheMix.net (www.themix.net)\n",
      "URL: https://www.themix.net/tv-shows/ted-lasso-season-4/\n",
      "Image URL: https://images.dappier.com/dm_01j0q82s4bfjmsqkhs3ywm3x6y/Ted-Lasso-Season-4-Apple-TV_.jpg?width=428&height=321\n",
      "Summary: Ted Lasso Season 4 has been confirmed by Jason Sudeikis, who revealed that writing is currently in progress. The acclaimed Apple TV+ series, known for its positivity and multiple Emmy wins, will see Sudeikis return as the optimistic coach. This season will shift focus to a women's team, likely the AFC Richmond Women’s Team, introducing a new storyline direction.\n",
      "\n",
      "Sudeikis highlighted the theme of growth and discovery for the characters, encouraging them to \"LEAP BEFORE THEY LOOK.\" While details about the cast and plot are still under wraps, main actors like Hannah Waddingham and Brett Goldstein are confirmed to return. The announcement has generated excitement among fans, eager for more heartwarming storytelling from the beloved series.\n",
      "Score: None\n",
      "\n",
      "\n"
     ]
    }
   ],
   "source": [
    "print(\n",
    "    dappier_tool.get_lifestyle_news_recommendations(\n",
    "        query=\"latest lifestyle updates\", similarity_top_k=3\n",
    "    )\n",
    ")"
   ]
  },
  {
   "cell_type": "markdown",
   "id": "16f19d9b",
   "metadata": {},
   "source": [
    "### iHeartDogs Articles\n",
    "\n",
    "A dog care expert with access to articles on health, behavior, lifestyle, grooming, ownership, and more."
   ]
  },
  {
   "cell_type": "code",
   "execution_count": null,
   "id": "f9326445",
   "metadata": {},
   "outputs": [
    {
     "name": "stdout",
     "output_type": "stream",
     "text": [
      "Result 1:\n",
      "Title: 15 Exotic Dog Breeds That Belong on a National Geographic Cover\n",
      "Author: Arlene Divina\n",
      "Published on: Thu, 20 Mar 2025 22:14:02 +0000\n",
      "Source: iHeartDogs.com (iheartdogs.com)\n",
      "URL: https://iheartdogs.com/exotic-breeds-that-belong-on-a-national-geographic-cover/\n",
      "Image URL: https://images.dappier.com/dm_01j1sz8t3qe6v9g8ad102kvmqn/shutterstock_2034231113_.png?width=428&height=321\n",
      "Summary: The article showcases a variety of exotic dog breeds that possess striking appearances and rich histories, making them ideal candidates for a National Geographic cover. Breeds like the Xoloitzcuintli, revered by the Aztecs, and the Thai Ridgeback, known for its athleticism, highlight the unique characteristics and cultural significance of these dogs. The Tibetan Mastiff, with its majestic presence, further exemplifies the nobility and independence of these remarkable breeds.\n",
      "\n",
      "Additionally, the article features other unique breeds such as the Catahoula Leopard Dog, Azawakh, and Norwegian Lundehund, each with fascinating traits and historical backgrounds. From the rare Peruvian Inca Orchid to the agile New Guinea Singing Dog, these breeds reflect the diversity and adaptability of canines. Overall, the article celebrates the beauty and heritage of these dogs, emphasizing their roles as companions and guardians throughout history.\n",
      "Score: None\n",
      "\n",
      "Result 2:\n",
      "Title: 9 Dog Breeds That Have the Iconic Style of a Supermodel\n",
      "Author: Arlene Divina\n",
      "Published on: Thu, 20 Mar 2025 21:35:17 +0000\n",
      "Source: iHeartDogs.com (iheartdogs.com)\n",
      "URL: https://iheartdogs.com/breeds-that-have-the-iconic-style-of-a-supermodel/\n",
      "Image URL: https://images.dappier.com/dm_01j1sz8t3qe6v9g8ad102kvmqn/shutterstock_2470932173_.png?width=428&height=321\n",
      "Summary: The article showcases nine dog breeds that epitomize elegance and style, comparing them to supermodels. Breeds like the Afghan Hound, Borzoi, and Saluki are highlighted for their striking features and graceful movements, embodying a commanding presence that makes them stand out. Other breeds, such as Poodles and Doberman Pinschers, are noted for their versatility and edgy appeal, while Whippets and Italian Greyhounds exude refined beauty and charm.\n",
      "\n",
      "Additionally, the Irish Setter and Chow Chow are celebrated for their captivating aesthetics, with the former's flowing red coat and lively personality evoking runway glamour, and the latter's thick fur and dignified demeanor resembling a lion. The article emphasizes that these breeds possess the qualities of fashion icons, ready to steal the spotlight and lead major campaigns with their unique styles and star power.\n",
      "Score: None\n",
      "\n",
      "Result 3:\n",
      "Title: 15 Enchanting Dog Breeds That Are Basically Walking Disney Characters\n",
      "Author: Arlene Divina\n",
      "Published on: Thu, 20 Mar 2025 21:29:50 +0000\n",
      "Source: iHeartDogs.com (iheartdogs.com)\n",
      "URL: https://iheartdogs.com/enchanting-breeds-that-are-basically-walking-disney-characters/\n",
      "Image URL: https://images.dappier.com/dm_01j1sz8t3qe6v9g8ad102kvmqn/dog-6880350_1280-e1742506162895_.jpg?width=428&height=321\n",
      "Summary: The article showcases various dog breeds that embody the charm and whimsy of Disney characters, highlighting their enchanting qualities and unique personalities. Breeds like Pomeranians, Cavalier King Charles Spaniels, and Samoyeds are celebrated for their magical traits, resembling animated characters with their playful and affectionate natures. Other breeds, such as Shiba Inus and Afghan Hounds, are depicted as adventurous and glamorous, fitting seamlessly into whimsical narratives.\n",
      "\n",
      "Additionally, the article emphasizes the joy these breeds bring to everyday life, making them feel like real-life characters from animated films. With their expressive features and spirited personalities, dogs like Newfoundlands, Papillons, and Chow Chows evoke a sense of wonder, reminding us of the magic of companionship. The piece concludes by encouraging readers to support shelter dogs and engage with dog-related content.\n",
      "Score: None\n",
      "\n",
      "\n"
     ]
    }
   ],
   "source": [
    "print(\n",
    "    dappier_tool.get_iheartdogs_recommendations(\n",
    "        query=\"dog care tips\", similarity_top_k=3\n",
    "    )\n",
    ")"
   ]
  },
  {
   "cell_type": "markdown",
   "id": "c39a3b2d",
   "metadata": {},
   "source": [
    "### iHeartCats Articles\n",
    "\n",
    "A cat care expert with access to articles on health, behavior, lifestyle, grooming, ownership, and more."
   ]
  },
  {
   "cell_type": "code",
   "execution_count": null,
   "id": "e9373aab",
   "metadata": {},
   "outputs": [
    {
     "name": "stdout",
     "output_type": "stream",
     "text": [
      "Result 1:\n",
      "Title: Top 13 Cat Breeds That Are Naturally Gentle and Calm\n",
      "Author: Clarisse Jelle\n",
      "Published on: Thu, 20 Mar 2025 18:05:47 +0000\n",
      "Source: iHeartCats.com (iheartcats.com)\n",
      "URL: https://iheartcats.com/cat-breeds-naturally-gentle-and-calm/\n",
      "Image URL: https://images.dappier.com/dm_01j1sza0h7ekhaecys2p3y0vmj/Maine-Coon-scaled-e1741187426168_.jpg?width=428&height=321\n",
      "Summary: The article discusses various cat breeds known for their gentle and calm personalities, making them ideal companions for families and individuals. Breeds such as Ragdolls, British Shorthairs, and Maine Coons are highlighted for their affectionate nature and sociability, thriving on human interaction while also enjoying quiet moments. Other breeds like the Russian Blue and Siberian are noted for their playful yet gentle demeanor, making them suitable for homes with children and other pets.\n",
      "\n",
      "Additionally, the article emphasizes the unique traits of each breed, such as the Tonkinese's social nature and the Chartreux's intelligence. It reassures readers that there is a perfect cat breed for every lifestyle, offering companionship and warmth. The article also includes a note for customers seeking order assistance, encouraging them to reach out for support.\n",
      "Score: None\n",
      "\n",
      "Result 2:\n",
      "Title: 9 Clues Your Cat Wants You to Think They’re Your Boss\n",
      "Author: Clarisse Jelle\n",
      "Published on: Thu, 20 Mar 2025 17:57:50 +0000\n",
      "Source: iHeartCats.com (iheartcats.com)\n",
      "URL: https://iheartcats.com/clues-cat-wants-you-to-think-theyre-boss/\n",
      "Image URL: https://images.dappier.com/dm_01j1sza0h7ekhaecys2p3y0vmj/cat-bite_.jpg?width=428&height=321\n",
      "Summary: The article humorously illustrates how cats assert their dominance over their human companions, portraying them as the true rulers of the household. Through behaviors like demanding food, claiming prime spots, and exhibiting selective hearing, cats communicate their expectations and whims, reinforcing their superior position in the relationship. Their mix of affection and aloofness makes owners work for their love, with unspoken rules that, if broken, lead to playful consequences.\n",
      "\n",
      "Additionally, the article highlights the emotional dynamics of cat ownership, where owners navigate their pets' moods and expectations. Cats may bring \"gifts\" to demand recognition, and their owners often feel the weight of their disappointment when needs aren't met. Ultimately, the piece concludes that embracing a cat's boss-like demeanor makes life more enjoyable, celebrating the charm and charisma that come with serving these independent creatures.\n",
      "Score: None\n",
      "\n",
      "Result 3:\n",
      "Title: 13 Ways Your Cat Shows You They’re Always Paying Attention\n",
      "Author: Clarisse Jelle\n",
      "Published on: Thu, 20 Mar 2025 17:48:38 +0000\n",
      "Source: iHeartCats.com (iheartcats.com)\n",
      "URL: https://iheartcats.com/ways-cat-shows-always-paying-attention/\n",
      "Image URL: https://images.dappier.com/dm_01j1sza0h7ekhaecys2p3y0vmj/cat-demanding-for-attention_.jpg?width=428&height=321\n",
      "Summary: Cats are highly observant and emotionally attuned to their surroundings and their owners. They exhibit behaviors like slow blinking to show trust and affection, while their tail movements can indicate their mood. With exceptional hearing and the ability to detect faint sounds, cats remain vigilant, often following their owners or sitting nearby to stay connected without being overly clingy. \n",
      "\n",
      "Additionally, cats recognize their names and respond to familiar sounds, showcasing their attentiveness. Their eye contact reveals curiosity and affection, while their purring can signify enjoyment or a desire to comfort. Overall, these behaviors reflect a deep emotional connection and understanding between cats and their human companions, highlighting their engagement and affection.\n",
      "Score: None\n",
      "\n",
      "\n"
     ]
    }
   ],
   "source": [
    "print(\n",
    "    dappier_tool.get_iheartcats_recommendations(\n",
    "        query=\"cat care advice\", similarity_top_k=3\n",
    "    )\n",
    ")"
   ]
  },
  {
   "cell_type": "markdown",
   "id": "e69b1986",
   "metadata": {},
   "source": [
    "### GreenMonster Articles\n",
    "\n",
    "A helpful guide to making conscious and compassionate choices that help people, animals, and the planet.\n"
   ]
  },
  {
   "cell_type": "code",
   "execution_count": null,
   "id": "a5192621",
   "metadata": {},
   "outputs": [
    {
     "name": "stdout",
     "output_type": "stream",
     "text": [
      "Result 1:\n",
      "Title: 15 Plant-Based Recipes Rich in Folate\n",
      "Author: Chelsea Debret\n",
      "Published on: Thu, 20 Mar 2025 12:14:02 +0000\n",
      "Source: One Green Planet (www.onegreenplanet.org)\n",
      "URL: https://www.onegreenplanet.org/natural-health/recipes-rich-in-folate/\n",
      "Image URL: https://images.dappier.com/dm_01j5xy9w5sf49bm6b1prm80m27/ch-1067x800_.png?width=428&height=321\n",
      "Summary: The article from One Green Planet presents 15 plant-based recipes rich in folate, an essential nutrient crucial for cell growth and metabolism, particularly beneficial for pregnant women. It emphasizes the importance of incorporating folate-rich foods like leafy greens, legumes, and fortified grains into one’s diet, promoting plant-based eating as a sustainable and health-conscious choice. \n",
      "\n",
      "In addition to the recipes, the article highlights the broader health benefits of folate, including its role in cancer prevention and heart health. It encourages readers to explore the Food Monster App for more nutritious recipes while advocating for a plant-based lifestyle that supports overall well-being and environmental sustainability.\n",
      "Score: None\n",
      "\n",
      "Result 2:\n",
      "Title: Indulge in 10 Irresistible Ravioli Dishes That Will Leave You Wanting More!\n",
      "Author: One Green Planet\n",
      "Published on: Thu, 20 Mar 2025 12:13:03 +0000\n",
      "Source: One Green Planet (www.onegreenplanet.org)\n",
      "URL: https://www.onegreenplanet.org/vegan-food/ravioli-dishes/\n",
      "Image URL: https://images.dappier.com/dm_01j5xy9w5sf49bm6b1prm80m27/ravi_.jpg?width=428&height=321\n",
      "Summary: The article from One Green Planet presents ten enticing vegan ravioli recipes, showcasing the dish's versatility with various fillings and sauces that cater to diverse tastes. Recipes include Spinach and Soy Ricotta Ravioli, Squash Ravioli with Kale Pesto, and Mushroom Ravioli with Creamy Leek Sauce, encouraging creativity in the kitchen while promoting plant-based cooking as a flavorful and health-conscious choice.\n",
      "\n",
      "In addition to the recipes, the article emphasizes the benefits of a plant-based diet for health and environmental sustainability, recommending resources like cookbooks and the Food Monster App for further exploration. It also highlights heartwarming animal rescue stories, urging compassion towards animals and inviting readers to support the platform for ongoing vegan content.\n",
      "Score: None\n",
      "\n",
      "Result 3:\n",
      "Title: 15 Amazing Ways to Elevate Your Recipes with the Flavor of Roasted Garlic!\n",
      "Author: Food Editorial Team\n",
      "Published on: Thu, 20 Mar 2025 12:12:12 +0000\n",
      "Source: One Green Planet (www.onegreenplanet.org)\n",
      "URL: https://www.onegreenplanet.org/vegan-food/flavorful-roasted-garlic-recipes/\n",
      "Image URL: https://images.dappier.com/dm_01j5xy9w5sf49bm6b1prm80m27/sourdough-garlic-knots_.jpg?width=428&height=321\n",
      "Summary: The article from One Green Planet showcases a variety of delicious vegan recipes centered around roasted garlic, highlighting its versatility and rich flavor. Recipes include Roasted Garlic Lemony Quinoa, Roasted Garlic Sourdough Knots, and Roasted Garlic Hummus, each designed to enhance meals while promoting plant-based eating. The piece emphasizes the health benefits of roasted garlic and encourages readers to explore these easy-to-follow recipes for both casual and special occasions.\n",
      "\n",
      "Additionally, the article touches on broader themes of compassion towards animals and sustainable cooking practices. It features heartwarming stories of animal rescues and promotes a lifestyle that supports animal welfare. Readers are encouraged to download the Food Monster App for more culinary inspiration and subscribe to the One Green Planet Newsletter for daily updates on vegan food and lifestyle content.\n",
      "Score: None\n",
      "\n",
      "\n"
     ]
    }
   ],
   "source": [
    "print(\n",
    "    dappier_tool.get_greenmonster_recommendations(\n",
    "        query=\"sustainable living\", similarity_top_k=3\n",
    "    )\n",
    ")"
   ]
  },
  {
   "cell_type": "markdown",
   "id": "054a6dcc",
   "metadata": {},
   "source": [
    "### WISH-TV News\n",
    "\n",
    "Politics, breaking news, multicultural news, Hispanic language content, Entertainment, Health, Education, and many more."
   ]
  },
  {
   "cell_type": "code",
   "execution_count": null,
   "id": "3efca541",
   "metadata": {},
   "outputs": [
    {
     "name": "stdout",
     "output_type": "stream",
     "text": [
      "Result 1:\n",
      "Title: Straight-line winds likely caused storm damage in Delphi\n",
      "Author: Garrett Bergquist\n",
      "Published on: Thu, 20 Mar 2025 22:28:14 +0000\n",
      "Source: Indianapolis News | Indiana Weather | Indiana Traffic | WISH-TV | (www.wishtv.com)\n",
      "URL: https://www.wishtv.com/weather/weather-stories/delphi-storms-straight-line-winds-march-19-2025/\n",
      "Image URL: https://images.dappier.com/dm_01jagy9nqaeer9hxx8z1sk1jx6/032025_DelphiDamage-e1742509165443_.jpg?width=428&height=321\n",
      "Summary: On March 19, 2025, Delphi, Indiana, experienced severe storms that caused significant damage, primarily due to straight-line winds. Emergency management officials reported extensive efforts by city workers and tree service companies to clear fallen trees and branches, especially in the historic neighborhood near Deer Creek. Six residents were evacuated from an apartment building after a tree fell on its roof, but fortunately, no injuries were reported.\n",
      "\n",
      "The storms resulted in damage to homes, including broken siding and shingles, as well as overturned outdoor structures. While falling power lines sparked transformer fires, these incidents did not lead to serious damage. The National Weather Service is conducting a damage survey, indicating that the destruction was likely caused by straight-line winds, which can be as dangerous as tornadoes due to their high speeds.\n",
      "Score: None\n",
      "\n",
      "Result 2:\n",
      "Title: South Bend man found in stolen fire vehicle admits setting dad’s house ablaze\n",
      "Author: Gregg Montgomery\n",
      "Published on: Thu, 20 Mar 2025 21:50:35 +0000\n",
      "Source: Indianapolis News | Indiana Weather | Indiana Traffic | WISH-TV | (www.wishtv.com)\n",
      "URL: https://www.wishtv.com/news/indiana-news/south-bend-man-charged-arson-auto-theft/\n",
      "Image URL: https://images.dappier.com/dm_01jagy9nqaeer9hxx8z1sk1jx6/BACKGROUND-Ramon-Villalba-Huerta_.jpg?width=428&height=321\n",
      "Summary: Ramon Villalba-Huerta, a 31-year-old man from South Bend, has been charged with arson and auto theft after allegedly setting fire to his father's house early Thursday morning. The fire, which started around 4:30 a.m. when he ignited a couch, resulted in the complete destruction of the home and damage to a neighboring property.\n",
      "\n",
      "While firefighters were responding to the blaze, Villalba-Huerta stole a marked vehicle from the South Bend Fire Department. He was later apprehended a few blocks away with the stolen vehicle. No injuries were reported, and he is currently held at the St. Joseph County jail, facing charges of auto theft and two counts of arson, although formal court records were not yet available.\n",
      "Score: None\n",
      "\n",
      "Result 3:\n",
      "Title: Near normal stretch with additional rain chances this weekend | Mar. 20, 2025\n",
      "Author: Steven Diana\n",
      "Published on: Thu, 20 Mar 2025 21:36:38 +0000\n",
      "Source: Indianapolis News | Indiana Weather | Indiana Traffic | WISH-TV | (www.wishtv.com)\n",
      "URL: https://www.wishtv.com/weather/weather-blog/near-normal-stretch-with-additional-rain-chances-this-weekend-mar-20-2025/\n",
      "Image URL: https://images.dappier.com/dm_01jagy9nqaeer9hxx8z1sk1jx6/TOM-HIGHS_.jpg?width=428&height=321\n",
      "Summary: Indianapolis is transitioning into spring after a stormy Wednesday, with near-normal temperatures expected to average between 54 to 55 degrees over the coming week. Following clearing skies and calmer winds on Thursday night, Friday will bring sunshine and breezy southerly winds, pushing temperatures into the mid to upper 50s, though isolated showers may develop after sunset.\n",
      "\n",
      "The weekend forecast indicates sunny conditions on Saturday with temperatures in the mid-50s, but rain is anticipated late Saturday night. Sunday is expected to bring the most significant rain and potential storms, with breezy conditions continuing into Monday. Highs will decrease from the mid to upper 50s on Sunday to the low 50s by Monday and Tuesday, resulting in a mix of sun and rain throughout the week.\n",
      "Score: None\n",
      "\n",
      "\n"
     ]
    }
   ],
   "source": [
    "print(\n",
    "    dappier_tool.get_wishtv_recommendations(\n",
    "        query=\"latest breaking news\", similarity_top_k=3\n",
    "    )\n",
    ")"
   ]
  },
  {
   "cell_type": "markdown",
   "id": "ff2ede5e",
   "metadata": {},
   "source": [
    "### 9 and 10 News\n",
    "\n",
    "Up-to-date local news, weather forecasts, sports coverage, and community stories for Northern Michigan, including the Cadillac and Traverse City areas."
   ]
  },
  {
   "cell_type": "code",
   "execution_count": null,
   "id": "6217a966",
   "metadata": {},
   "outputs": [
    {
     "name": "stdout",
     "output_type": "stream",
     "text": [
      "Result 1:\n",
      "Title: Petoskey baseball seeks to reach ‘next level’ after trip to quarterfinals last year\n",
      "Author: Jake Boss\n",
      "Published on: Fri, 21 Mar 2025 02:51:31 +0000\n",
      "Source: 9&10 News (www.9and10news.com)\n",
      "URL: https://www.9and10news.com/sports/2025/03/20/petoskey-baseball-seeks-to-reach-next-level-after-trip-to-quarterfinals-last-year/\n",
      "Image URL: https://images.dappier.com/dm_01jhtt138wf1b9j8jwswye99y5/t_2a085d3c12a54ca792154183a3e92057_name_SKEEBALL_.jpg?width=428&height=321\n",
      "Summary: Petoskey baseball is gearing up for the 2025 season, aiming to build on last year's impressive 27-14 record and quarterfinal appearance. Head coach Shawn Ragicnol emphasizes the significance of returning players and community support in their quest for improvement. \n",
      "\n",
      "Senior centerfielder Hayden James reflects the team's competitive spirit and strong winning culture. The Northmen are focused on making smart plays and maintaining composure under pressure as they prepare to kick off their season on April 3rd against Kingsley, determined to elevate their performance.\n",
      "Score: None\n",
      "\n",
      "Result 2:\n",
      "Title: Evart softball hopes to go back-to-back after first title in school history\n",
      "Author: Jayden Jagtiani\n",
      "Published on: Fri, 21 Mar 2025 02:51:03 +0000\n",
      "Source: 9&10 News (www.9and10news.com)\n",
      "URL: https://www.9and10news.com/sports/2025/03/20/evart-softball-hopes-to-go-back-to-back-after-first-title-in-school-history/\n",
      "Image URL: https://images.dappier.com/dm_01jhtt138wf1b9j8jwswye99y5/t_b17e6fa14a22442ab33444d3688fb661_name_Sequence_01_00_00_48_04_Still001_.jpg?width=428&height=321\n",
      "Summary: The Evart Wildcats softball team is preparing for their upcoming season after winning their first state championship last year. Although they lost six seniors, the team still boasts key players like all-state athletes Kyrah Gray and Mattisen Tiedt. \n",
      "\n",
      "Head coach Shaun Gray, now in his second season, stresses the importance of focusing on the present rather than the pressure of repeating last year's success. The Wildcats aim for another strong playoff run, but they must first navigate uncertainties before being compared to the previous championship team. Their season begins on April 12th against Traverse City St. Francis.\n",
      "Score: None\n",
      "\n",
      "Result 3:\n",
      "Title: Grand Traverse Parks and Recreation are hoping to upgrade the VASA Pathway\n",
      "Author: Josh Monroe, Megan Huiskens\n",
      "Published on: Thu, 20 Mar 2025 23:34:48 +0000\n",
      "Source: 9&10 News (www.9and10news.com)\n",
      "URL: https://www.9and10news.com/2025/03/20/grand-traverse-parks-and-recreation-are-hoping-to-upgrade-the-vasa-pathway/\n",
      "Image URL: https://images.dappier.com/dm_01jhtt138wf1b9j8jwswye99y5/t_0ccfc623770c4cab906ffea7e5eb0e12_name_file_1920x1080_5400_v4__.jpg?width=428&height=321\n",
      "Summary: The VASA pathway in Traverse City is set for its first major upgrades in 30 years, with a collaborative plan from TART Trails and Grand Traverse County Parks and Recreation. The enhancements, estimated at $800,000, include creating gathering spaces and improving access to the warming hut. Funding will come from the county, a grant application to the Michigan Department of Natural Resources Trust Fund, and a sought donation.\n",
      "\n",
      "Parks and Recreation Director John Chase emphasized the need for repaving and redesigning the parking lot to improve user experience and manage runoff. With over 20,000 users in 2024, the VASA trailhead is crucial for biking and hiking. Local leaders recognize the importance of trail infrastructure, and if the grant is awarded, construction is expected to begin next summer to better serve the growing number of trail users.\n",
      "Score: None\n",
      "\n",
      "\n"
     ]
    }
   ],
   "source": [
    "print(\n",
    "    dappier_tool.get_nine_and_ten_news_recommendations(\n",
    "        query=\"northern michigan local news\", similarity_top_k=3\n",
    "    )\n",
    ")"
   ]
  },
  {
   "cell_type": "markdown",
   "id": "d41fb0d3",
   "metadata": {},
   "source": [
    "### Using the Dappier AI Recommendations tool in an Agent\n",
    "\n",
    "We can create an agent with access to the Dappier AI Recommendations tool start testing it out:"
   ]
  },
  {
   "cell_type": "code",
   "execution_count": null,
   "id": "a33051ce",
   "metadata": {},
   "outputs": [],
   "source": [
    "from llama_index.core.agent import FunctionCallingAgent\n",
    "from llama_index.llms.openai import OpenAI\n",
    "\n",
    "agent = FunctionCallingAgent.from_tools(\n",
    "    dappier_tool_list,\n",
    "    llm=OpenAI(model=\"gpt-4o\"),\n",
    ")"
   ]
  },
  {
   "cell_type": "code",
   "execution_count": null,
   "id": "ba290fe8f1621839",
   "metadata": {},
   "outputs": [
    {
     "name": "stdout",
     "output_type": "stream",
     "text": [
      "Here's a summary of the latest news and advice across different sections, with source links:\n",
      "\n",
      "### Sports News\n",
      "1. **New York Rangers vs. Toronto Maple Leafs**:\n",
      "   - The New York Rangers lost 4-3 to the Toronto Maple Leafs, further damaging their playoff hopes. Despite showing improvement, critical mistakes allowed Toronto to take the lead, with John Tavares scoring two goals. The Rangers are now trailing the Montreal Canadiens for the second wild card spot in the Eastern Conference. [Read more](https://www.foreverblueshirts.com/new-york-rangers-news/3-rangers-takeaways-from-4-3-loss-to-maple-leafs-that-further-damaged-their-playoff-hopes/)\n",
      "\n",
      "2. **Los Angeles Chargers Free Agent Signing**:\n",
      "   - The Los Angeles Chargers are considering signing free agent tight end Tyler Conklin to bolster their offense after a disappointing 2024 season. Conklin, who recently visited the Chargers, has had a solid performance with the New York Jets. [Read more](https://www.lafbnetwork.com/nfl/la-chargers/la-chargers-news/los-angeles-chargers-tyler-conklin-meeting/)\n",
      "\n",
      "3. **Josh Berry's NASCAR Cup Victory**:\n",
      "   - Josh Berry celebrated his first NASCAR Cup Series victory at Las Vegas Motor Speedway. He took a reflective approach, savoring the moment by driving slowly around the track. [Read more](https://sportsnaut.com/the-only-thing-josh-berry-would-change-about-winning-first-nascar-cup-race/)\n",
      "\n",
      "### Lifestyle News\n",
      "1. **Looney Tunes and Tubi**:\n",
      "   - Tubi has stepped in to support Looney Tunes fans after Warner Bros. Discovery removed classic cartoons from its streaming service, Max. This decision has raised concerns about the future of the film \"Coyote vs. Acme.\" [Read more](https://boundingintocomics.com/movies/movie-news/tubi-saves-the-day-for-looney-tunes-after-warner-bros-discovery-pulls-classic-cartoons-from-max-and-ketchup-entertainment-might-come-to-the-rescue-of-coyote-vs-acme/)\n",
      "\n",
      "2. **Assassin’s Creed Shadows Controversy**:\n",
      "   - Ubisoft has implemented a patch for \"Assassin’s Creed Shadows,\" reducing violence against religious shrines and non-combatant civilians in response to backlash from Japanese citizens. [Read more](https://boundingintocomics.com/video-games/video-game-news/ubisoft-stealth-patches-assassins-creed-shadows-tones-down-shrine-destruction-and-civilian-bloodshed/)\n",
      "\n",
      "### Breaking News\n",
      "1. **Heathrow Airport Closure**:\n",
      "   - Heathrow Airport was closed following a fire at a nearby electrical substation, causing a power outage and disrupting over 1,350 flights. The incident required a significant response from the London Fire Brigade. [Read more](https://www.wishtv.com/news/international/heathrow-airport-fires-disruption/)\n",
      "\n",
      "2. **Fort Wayne Shooting**:\n",
      "   - A shooting in Fort Wayne, Indiana, resulted in the death of a boy and injuries to another boy and a man. The police are actively investigating the incident. [Read more](https://www.wishtv.com/news/indiana-news/boy-dies-shooting-fort-wayne-march-20-2025/)\n",
      "\n",
      "### Dog Care Advice\n",
      "1. **Natural Oils for Dogs**:\n",
      "   - The article highlights the benefits of natural oils like salmon, coconut, hemp, flaxseed, and turmeric oil for improving dogs' skin and joint health. These oils provide essential fatty acids and anti-inflammatory properties. [Read more](https://iheartdogs.com/natural-oils-that-can-improve-your-dogs-skin-and-joint-health/)\n",
      "\n",
      "2. **Coping with the Loss of a Dog**:\n",
      "   - Losing a dog can be painful, but there are ways to cope with the grief, such as creating tributes and seeking support from friends or pet loss groups. [Read more](https://iheartdogs.com/ways-to-cope-with-the-heartbreak-of-losing-a-dog/)\n",
      "\n",
      "These summaries provide a snapshot of the latest happenings and advice in sports, lifestyle, breaking news, and dog care.\n"
     ]
    }
   ],
   "source": [
    "print(\n",
    "    agent.chat(\n",
    "        \"Get latest sports news, lifestyle news, breaking news, dog care advice and summarize it into different sections, with source links.\"\n",
    "    )\n",
    ")"
   ]
  }
 ],
 "metadata": {
  "kernelspec": {
   "display_name": "llama-index-yhiCGw8g-py3.10",
   "language": "python",
   "name": "python3"
  },
  "language_info": {
   "codemirror_mode": {
    "name": "ipython",
    "version": 3
   },
   "file_extension": ".py",
   "mimetype": "text/x-python",
   "name": "python",
   "nbconvert_exporter": "python",
   "pygments_lexer": "ipython3"
  }
 },
 "nbformat": 4,
 "nbformat_minor": 5
}
