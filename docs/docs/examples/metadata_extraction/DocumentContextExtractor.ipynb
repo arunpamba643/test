{
 "cells": [
  {
   "cell_type": "markdown",
   "metadata": {},
   "source": [
    "# CONTEXTUAL RETRIEVAL WITH LLAMA_INDEX\n",
    "\n",
    "This notebook covers contextual retrieval with llama_index DocumentContextExtractor\n",
    "\n",
    "Based on an Anthropic [blost post](https://www.anthropic.com/news/contextual-retrieval), the concept is to:\n",
    "1. Use an LLM to generate a 'context' for each chunk based on the entire document\n",
    "2. embed the chunk + context together\n",
    "3. reap the benefits of higher RAG accuracy\n",
    "\n",
    "While you can also do this manually, the DocumentContextExtractor offers a lot of convenience and error handling, plus you can integrate it into your llama_index pipelines! Let's get started."
   ]
  },
  {
   "cell_type": "markdown",
   "metadata": {},
   "source": [
    "# INSTALL PACKAGES"
   ]
  },
  {
   "cell_type": "code",
   "execution_count": null,
   "metadata": {},
   "outputs": [],
   "source": [
    "%pip install llama-index-readers-file\n",
    "%pip install llama-index-embeddings-huggingface\n",
    "%pip install llama-index-llms-huggingface-api"
   ]
  },
  {
   "cell_type": "markdown",
   "metadata": {},
   "source": [
    "# SETUP AN LLM\n",
    "You can use the MockLLM or you can use a real LLM of your choice here. flash 2 and gpt-4o-mini work well."
   ]
  },
  {
   "cell_type": "code",
   "execution_count": null,
   "metadata": {},
   "outputs": [],
   "source": [
    "from llama_index.llms.huggingface_api import HuggingFaceInferenceAPI\n",
    "from llama_index.core import Settings\n",
    "import os\n",
    "\n",
    "HF_TOKEN = os.getenv(\"HUGGING_FACE_TOKEN\")\n",
    "# HF_TOKEN = ''\n",
    "# Using Hugging Face's inference API anonymously\n",
    "llm = HuggingFaceInferenceAPI(\n",
    "    model_name=\"HuggingFaceH4/zephyr-7b-alpha\", token=HF_TOKEN\n",
    ")\n",
    "\n",
    "Settings.llm = llm"
   ]
  },
  {
   "cell_type": "markdown",
   "metadata": {},
   "source": [
    " #Setup a data pipeline\n",
    "\n",
    " we'll need an embedding model, an index store, a vectore store, and a way to split tokens."
   ]
  },
  {
   "cell_type": "markdown",
   "metadata": {},
   "source": [
    "# Build Pipeline & Index"
   ]
  },
  {
   "cell_type": "code",
   "execution_count": null,
   "metadata": {},
   "outputs": [],
   "source": [
    "from llama_index.core import VectorStoreIndex, StorageContext, Settings\n",
    "from llama_index.core.node_parser import TokenTextSplitter\n",
    "from llama_index.core.storage.index_store.simple_index_store import (\n",
    "    SimpleIndexStore,\n",
    ")\n",
    "from llama_index.core.vector_stores.simple import SimpleVectorStore\n",
    "from llama_index.core.storage.docstore.simple_docstore import (\n",
    "    SimpleDocumentStore,\n",
    ")\n",
    "from llama_index.embeddings.huggingface import HuggingFaceEmbedding\n",
    "\n",
    "# Initialize document store and embedding model\n",
    "docstore = SimpleDocumentStore()\n",
    "embed_model = HuggingFaceEmbedding(model_name=\"all-MiniLM-L6-v2\")\n",
    "\n",
    "# Create storage context\n",
    "storage_context = StorageContext.from_defaults(docstore=docstore)\n",
    "\n",
    "text_splitter = TokenTextSplitter(\n",
    "    separator=\" \", chunk_size=512, chunk_overlap=10\n",
    ")"
   ]
  },
  {
   "cell_type": "markdown",
   "metadata": {},
   "source": [
    "#### DocumentContextExtractor"
   ]
  },
  {
   "cell_type": "code",
   "execution_count": null,
   "metadata": {},
   "outputs": [],
   "source": [
    "# This is the new part!\n",
    "\n",
    "from llama_index.core.extractors import DocumentContextExtractor\n",
    "\n",
    "context_extractor = DocumentContextExtractor(\n",
    "    # mandatory\n",
    "    docstore=docstore,\n",
    "    max_context_length=128000,\n",
    "    # optional\n",
    "    llm=llm,  # default to Settings.llm\n",
    "    oversized_document_strategy=\"warn\",\n",
    "    max_output_tokens=100,\n",
    "    key=\"context\",\n",
    "    prompt=DocumentContextExtractor.DEFAULT_CONTEXT_PROMPT,\n",
    ")"
   ]
  },
  {
   "cell_type": "markdown",
   "metadata": {},
   "source": [
    "#### Build Index"
   ]
  },
  {
   "cell_type": "code",
   "execution_count": null,
   "metadata": {},
   "outputs": [
    {
     "name": "stderr",
     "output_type": "stream",
     "text": [
      "0it [00:00, ?it/s]\n"
     ]
    }
   ],
   "source": [
    "import nest_asyncio\n",
    "\n",
    "nest_asyncio.apply()\n",
    "\n",
    "index = VectorStoreIndex.from_documents(\n",
    "    documents=[],\n",
    "    storage_context=storage_context,\n",
    "    embed_model=embed_model,\n",
    "    transformations=[text_splitter, context_extractor],\n",
    ")\n",
    "\n",
    "import nest_asyncio\n",
    "\n",
    "nest_asyncio.apply()\n",
    "\n",
    "index_nocontext = VectorStoreIndex.from_documents(\n",
    "    documents=[],\n",
    "    storage_context=storage_context,\n",
    "    embed_model=embed_model,\n",
    "    transformations=[text_splitter],\n",
    ")"
   ]
  },
  {
   "cell_type": "markdown",
   "metadata": {},
   "source": [
    "# LOAD DATA"
   ]
  },
  {
   "cell_type": "code",
   "execution_count": null,
   "metadata": {},
   "outputs": [
    {
     "name": "stderr",
     "output_type": "stream",
     "text": [
      "'wget' is not recognized as an internal or external command,\n",
      "operable program or batch file.\n"
     ]
    }
   ],
   "source": [
    "!wget \"https://raw.githubusercontent.com/run-llama/llama_index/main/docs/docs/examples/data/paul_graham/paul_graham_essay.txt\" \"paul_graham_essay.txt\""
   ]
  },
  {
   "cell_type": "code",
   "execution_count": null,
   "metadata": {},
   "outputs": [],
   "source": [
    "from llama_index.core import SimpleDirectoryReader\n",
    "\n",
    "reader = SimpleDirectoryReader(input_files=[\"paul_graham_essay.txt\"])\n",
    "documents = reader.load_data()"
   ]
  },
  {
   "cell_type": "markdown",
   "metadata": {},
   "source": [
    "# Run the pipeline, then search"
   ]
  },
  {
   "cell_type": "code",
   "execution_count": null,
   "metadata": {},
   "outputs": [],
   "source": [
    "# have to keep this updated for the DocumentContextExtractor to function.\n",
    "# everytime we insert a doc the entire pipeline will run and context will be generated\n",
    "storage_context.docstore.add_documents(documents)\n",
    "for doc in documents:\n",
    "    index.insert(doc)\n",
    "    index_nocontext.insert(doc)"
   ]
  },
  {
   "cell_type": "code",
   "execution_count": null,
   "metadata": {},
   "outputs": [
    {
     "name": "stdout",
     "output_type": "stream",
     "text": [
      "{'94487fa8-06f6-434b-ba66-e0a1a6c06bb3', '606345ec-b8a8-4d87-bcab-3d07acbd04b5', 'bc81b234-5d95-4d78-8992-cbeed2c60d6b', 'a9b0eea8-f815-4a96-b7f2-863d4937e97e', '1333ed0a-2c09-4367-aa43-6268d995ac9a', '435a4fba-69c9-4a09-aaa2-2bb1333e2727', '7bd7f993-6c79-4564-bb32-d65072fdc711', 'd3a00a6c-8046-4432-aed4-906425ebc418', '7d534d81-455c-468a-8bf1-77fd4bce37f2', '2db690d2-137a-492c-9605-03c99c3c0e91', 'affc0804-fb85-477b-9519-6c65552d6025', 'be9eabe4-274e-4747-a1a8-6ec4a6d53f97', '5f74c666-3da0-4868-b4f0-bdf462625959', 'c1c91ff1-a46c-4737-91b4-fd43dd517229', 'de5bd5ee-2ca3-4d2e-a9fc-418e22cf739b', '1b625f8c-bb6a-43e2-940a-6530a64a7f86', 'facc442a-9ae6-4433-90e5-5590cd52dffe', '1fef7407-3707-4eca-b474-c9403d3a8a05', 'dd0d84d6-2fbe-483d-be3e-af0eb6f58635', 'bd5964e0-1066-49ed-ac39-27149cbf5c2d', '7ac18149-7a6f-40b2-8519-36caa4074b64', 'b9789b34-6d7f-4563-9cc8-2217e5e554a1', '0bee2203-7346-4d93-89a9-2261bd2cab52', '3357dd08-e4c7-4cad-9a0b-fc90a01a2a8a', '3bd7a3aa-6779-4482-879b-1871428c4954', '94ac7bf6-12df-456f-ae70-f2da875afe49', '94d5ea67-5caf-4c8a-a8a7-ac67c7794544', '60060464-3c9b-485d-8720-bb2cc71f1948', '6a4635b1-0093-4200-ac24-264d59f656fe', 'fead76c9-c78c-4f35-840e-0109c1831d70', '62c6d5a7-5199-4216-9fd2-9be25f2e1568', 'a2203456-abcf-433f-a5b0-cb3038933a07', 'cd395050-9c8f-4606-95cb-9fbbdece0734', 'ce9278c2-9061-4a27-982a-8b5fe38db4b2'}\n",
      "False\n"
     ]
    }
   ],
   "source": [
    "# Verify all nodes have context\n",
    "assert context_extractor.is_job_complete()"
   ]
  },
  {
   "cell_type": "code",
   "execution_count": null,
   "metadata": {},
   "outputs": [
    {
     "name": "stdout",
     "output_type": "stream",
     "text": [
      "\n",
      "\n",
      "Paul Graham is the author of the excerpt provided in the given context. He is a well-known entrepreneur, essayist, and venture capitalist. He co-founded the startup incubator Y Combinator, which has helped launch companies such as Airbnb, Stripe, and Reddit. Graham is also the author of several books, including \"Hackers & Painters\" and \"The Matter with Things.\"\n"
     ]
    }
   ],
   "source": [
    "retriever = index.as_retriever(similarity_top_k=5)\n",
    "nodes_fromcontext = retriever.retrieve(\"Who is Paul Graham.\")\n",
    "\n",
    "retriever_nocontext = index_nocontext.as_retriever(similarity_top_k=5)\n",
    "nodes_nocontext = retriever.retrieve(\"Who is Paul Graham.\")\n",
    "# Print each node's content\n",
    "print(\"==========\")\n",
    "print(\"NO CONTEXT\")\n",
    "for i, node in enumerate(nodes_nocontext, 1):\n",
    "    print(f\"\\nChunk {i}:\")\n",
    "    print(f\"Score: {node.score}\")  # Similarity score\n",
    "    print(f\"Content: {node.node.text}\")  # The actual text content\n",
    "\n",
    "# Print each node's content\n",
    "print(\"==========\")\n",
    "print(\"WITH CONTEXT\")\n",
    "for i, node in enumerate(nodes_fromcontext, 1):\n",
    "    print(f\"\\nChunk {i}:\")\n",
    "    print(f\"Score: {node.score}\")  # Similarity score\n",
    "    print(f\"Content: {node.node.text}\")  # The actual text content"
   ]
  },
  {
   "cell_type": "code",
   "execution_count": null,
   "metadata": {},
   "outputs": [],
   "source": [
    "# save the index and vectorstore, cause it can take time and money to generate context!\n",
    "storage_context.persist(persist_path=\"./\")"
   ]
  }
 ],
 "metadata": {
  "colab": {
   "provenance": []
  },
  "kernelspec": {
   "display_name": ".venv",
   "language": "python",
   "name": "python3"
  },
  "language_info": {
   "codemirror_mode": {
    "name": "ipython",
    "version": 3
   },
   "file_extension": ".py",
   "mimetype": "text/x-python",
   "name": "python",
   "nbconvert_exporter": "python",
   "pygments_lexer": "ipython3"
  }
 },
 "nbformat": 4,
 "nbformat_minor": 0
}
